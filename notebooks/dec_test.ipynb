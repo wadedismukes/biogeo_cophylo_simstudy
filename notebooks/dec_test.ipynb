{
 "cells": [
  {
   "cell_type": "code",
   "execution_count": 1,
   "metadata": {
    "collapsed": true,
    "pycharm": {
     "name": "#%%\n",
     "is_executing": false
    }
   },
   "outputs": [
    {
     "data": {
      "text/plain": "0"
     },
     "metadata": {},
     "output_type": "execute_result",
     "execution_count": 1
    }
   ],
   "source": [
    "import biogeo_cophylo_simstudy\n",
    "import treeducken_tools as td\n",
    "import os\n",
    "import dendropy\n",
    "import subprocess\n",
    "from dendropy import Tree\n",
    "import pandas as pd\n",
    "import re\n",
    "\n",
    "nt = 12\n",
    "turnover = 0.5\n",
    "br = 0.07\n",
    "dr = 0.035\n",
    "trr = 0.5\n",
    "gbr = 0.0\n",
    "gdr = 0.0\n",
    "reps = 1\n",
    "nl = 1\n",
    "ng = 1\n",
    "ipp = 1\n",
    "ne = 1\n",
    "sd1 = 1859\n",
    "sd2 = 2019\n",
    "\n",
    "\n",
    "settings_regime_name = \"test\"\n",
    "settings_dictionary = td.create_settings_dictionary(sbr=br, sdr=dr, lgtr=trr, gbr=gbr, gdr=gdr, num_loci=nl,\n",
    "                                                        reps=reps, num_genes=1, ipp=1, ne=1, ntax=nt, screen_out=0,\n",
    "                                                        ofn=settings_regime_name, sd1=sd1, sd2=sd2)\n",
    "\n",
    "settings = td.write_settings_file(settings_dictionary, settings_regime_name)\n",
    "\n",
    "\n",
    "subprocess.call(\"../src/create_directories_for_simdata.sh\", shell=True)"
   ]
  },
  {
   "cell_type": "markdown",
   "source": [],
   "metadata": {
    "collapsed": false,
    "pycharm": {
     "name": "#%% md\n",
     "is_executing": false
    }
   }
  },
  {
   "cell_type": "code",
   "execution_count": 2,
   "outputs": [
    {
     "name": "stdout",
     "text": [
      "############################################################\n####\ttreeducken, version 0.1 \t\t\t####\n####\t6b534100b3acc4e8073baadb9fbf5694854134ca\t####\n############################################################\n\n\n"
     ],
     "output_type": "stream"
    }
   ],
   "source": [
    "run_cmd = \"treeducken\" + \" -i \" + \"biogeo_cophylo_simstudy/settings/\" + \"test_settings.txt\"\n",
    "so = os.popen(run_cmd).read()\n",
    "print(so)\n",
    "setting_prefix = \"test\"\n",
    "mv_cmd = \"mv \" + setting_prefix + \"*\" + \" ./data/test\"\n",
    "so2 = os.popen(mv_cmd).read()\n",
    "print(so2)\n"
   ],
   "metadata": {
    "collapsed": false,
    "pycharm": {
     "name": "#%% \n",
     "is_executing": false
    }
   }
  },
  {
   "cell_type": "code",
   "execution_count": 3,
   "outputs": [],
   "source": [
    "host_tree_suffix_fn = \".sp.tre\"\n",
    "symb_tree_suffix_fn = \"_0.loc.tre\"\n",
    "\n",
    "brtimes_suffix_fn = \".times.txt\"\n",
    "ranges_suffix_fn = \".range.nex\"\n",
    "\n",
    "data_dir = \"data/test/\"\n",
    "\n",
    "prefix_fn = \"test_\"\n",
    "\n",
    "\n",
    "# read in the host and symbiont trees\n",
    "host_fn = data_dir + prefix_fn + str(0) + host_tree_suffix_fn\n",
    "symb_fn = data_dir + prefix_fn + str(0) + symb_tree_suffix_fn\n",
    "\n",
    "host_tree = Tree.get(path=host_fn, schema=\"nexus\", rooting=\"default-rooted\")\n",
    "symb_tree = Tree.get(path=symb_fn, schema=\"nexus\", rooting=\"default-rooted\")\n",
    "\n",
    "# prune extinct tips on symb tree\n",
    "symb_newick_tree = symb_tree.as_string(\"nexus\")\n",
    "symb_tree = dendropy.Tree.get_from_string(symb_newick_tree, \"nexus\")\n",
    "ext_labels = re.findall(\"X\\d+.{1}\\d+\", symb_newick_tree)\n",
    "taxa_set = re.findall(\"T\\d+.{1}\\d+\", symb_newick_tree)\n",
    "for k in range(0, len(ext_labels)):\n",
    "    ext_labels[k] = re.sub(\"_\", \" \", ext_labels[k])\n",
    "for m in range(0, len(taxa_set)):\n",
    "    taxa_set[m] = re.sub(\"_\", \" \", taxa_set[m])\n",
    "symb_tree.prune_taxa_with_labels(ext_labels, update_bipartitions=True)\n",
    "symb_tree.write(path=data_dir + prefix_fn + str(0) + \"_pruned\" + symb_tree_suffix_fn,\n",
    "                        schema=\"nexus\",\n",
    "                        suppress_taxa_blocks=True)\n",
    "\n",
    "# print out epoch times (no uncertainty in age here)\n",
    "out_fn = data_dir + prefix_fn + str(0)\n",
    "brtimes_out_fn = out_fn + brtimes_suffix_fn\n",
    "biogeo_cophylo_simstudy.print_branching_times(host_tree, brtimes_out_fn)\n",
    "\n",
    "# print out range files\n",
    "nex_range_outfn = out_fn + ranges_suffix_fn\n",
    "biogeo_cophylo_simstudy.print_nexus_range_file(nex_range_outfn, host_tree, symb_tree)\n",
    "\n",
    "# print out connectivity graphs\n",
    "connectivity_prefix_outfn = out_fn + \".connectivity\"\n",
    "biogeo_cophylo_simstudy.print_connectivity_graph(host_tree=host_tree, of_prefix=connectivity_prefix_outfn)\n",
    "\n",
    "# print out \"distance\" matrix\n",
    "dist_mat = host_tree.phylogenetic_distance_matrix()\n",
    "distmat_ofn = out_fn + \".distances.txt\"\n",
    "dm_df = pd.DataFrame(data=dist_mat, index=host_tree.taxon_namespace)\n",
    "biogeo_cophylo_simstudy.print_rev_script(data_dir, prefix_fn, 0)"
   ],
   "metadata": {
    "collapsed": false,
    "pycharm": {
     "name": "#%%\n",
     "is_executing": false
    }
   }
  },
  {
   "cell_type": "code",
   "execution_count": null,
   "outputs": [],
   "source": [
    "\n"
   ],
   "metadata": {
    "collapsed": false,
    "pycharm": {
     "name": "#%%\n"
    }
   }
  }
 ],
 "metadata": {
  "kernelspec": {
   "display_name": "Python 3",
   "language": "python",
   "name": "python3"
  },
  "language_info": {
   "codemirror_mode": {
    "name": "ipython",
    "version": 2
   },
   "file_extension": ".py",
   "mimetype": "text/x-python",
   "name": "python",
   "nbconvert_exporter": "python",
   "pygments_lexer": "ipython2",
   "version": "2.7.6"
  },
  "pycharm": {
   "stem_cell": {
    "cell_type": "raw",
    "source": [],
    "metadata": {
     "collapsed": false
    }
   }
  }
 },
 "nbformat": 4,
 "nbformat_minor": 0
}